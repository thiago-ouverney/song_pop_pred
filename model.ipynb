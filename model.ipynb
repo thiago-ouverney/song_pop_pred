{
 "cells": [
  {
   "cell_type": "code",
   "execution_count": 24,
   "id": "7694cb5d-595d-46c3-b249-801615204fa8",
   "metadata": {},
   "outputs": [],
   "source": [
    "import pandas as pd, numpy as np\n",
    "from sklearn.impute import SimpleImputer\n",
    "from sklearn.ensemble import RandomForestClassifier\n",
    "from sklearn.model_selection import train_test_split,  cross_val_score, KFold, GridSearchCV\n",
    "from sklearn.pipeline import Pipeline, make_pipeline\n",
    "SEED = 42"
   ]
  },
  {
   "cell_type": "code",
   "execution_count": 14,
   "id": "4549f8a9-6e8d-4a2c-bce8-5c17f7bcb2de",
   "metadata": {},
   "outputs": [],
   "source": [
    "path_train = 'data/train.csv'\n",
    "df = pd.read_csv(path_train)\n",
    "df.set_index('id',inplace=True)"
   ]
  },
  {
   "cell_type": "markdown",
   "id": "5d6c6bce-0118-45f3-a9fe-fb73c2ecaaa9",
   "metadata": {
    "jp-MarkdownHeadingCollapsed": true,
    "tags": []
   },
   "source": [
    "# EDA"
   ]
  },
  {
   "cell_type": "code",
   "execution_count": 15,
   "id": "277f3980-5572-4952-aa6d-6f82d0ea5e42",
   "metadata": {},
   "outputs": [
    {
     "data": {
      "text/html": [
       "<div>\n",
       "<style scoped>\n",
       "    .dataframe tbody tr th:only-of-type {\n",
       "        vertical-align: middle;\n",
       "    }\n",
       "\n",
       "    .dataframe tbody tr th {\n",
       "        vertical-align: top;\n",
       "    }\n",
       "\n",
       "    .dataframe thead th {\n",
       "        text-align: right;\n",
       "    }\n",
       "</style>\n",
       "<table border=\"1\" class=\"dataframe\">\n",
       "  <thead>\n",
       "    <tr style=\"text-align: right;\">\n",
       "      <th></th>\n",
       "      <th>song_duration_ms</th>\n",
       "      <th>acousticness</th>\n",
       "      <th>danceability</th>\n",
       "      <th>energy</th>\n",
       "      <th>instrumentalness</th>\n",
       "      <th>key</th>\n",
       "      <th>liveness</th>\n",
       "      <th>loudness</th>\n",
       "      <th>audio_mode</th>\n",
       "      <th>speechiness</th>\n",
       "      <th>tempo</th>\n",
       "      <th>time_signature</th>\n",
       "      <th>audio_valence</th>\n",
       "      <th>song_popularity</th>\n",
       "    </tr>\n",
       "    <tr>\n",
       "      <th>id</th>\n",
       "      <th></th>\n",
       "      <th></th>\n",
       "      <th></th>\n",
       "      <th></th>\n",
       "      <th></th>\n",
       "      <th></th>\n",
       "      <th></th>\n",
       "      <th></th>\n",
       "      <th></th>\n",
       "      <th></th>\n",
       "      <th></th>\n",
       "      <th></th>\n",
       "      <th></th>\n",
       "      <th></th>\n",
       "    </tr>\n",
       "  </thead>\n",
       "  <tbody>\n",
       "    <tr>\n",
       "      <th>39995</th>\n",
       "      <td>237799.0</td>\n",
       "      <td>NaN</td>\n",
       "      <td>0.748942</td>\n",
       "      <td>0.511234</td>\n",
       "      <td>0.002913</td>\n",
       "      <td>0.0</td>\n",
       "      <td>0.173803</td>\n",
       "      <td>-8.853673</td>\n",
       "      <td>0</td>\n",
       "      <td>0.078060</td>\n",
       "      <td>168.262924</td>\n",
       "      <td>3</td>\n",
       "      <td>0.178159</td>\n",
       "      <td>0</td>\n",
       "    </tr>\n",
       "    <tr>\n",
       "      <th>39996</th>\n",
       "      <td>191119.0</td>\n",
       "      <td>0.067488</td>\n",
       "      <td>0.672830</td>\n",
       "      <td>0.889685</td>\n",
       "      <td>0.001225</td>\n",
       "      <td>5.0</td>\n",
       "      <td>0.122924</td>\n",
       "      <td>-7.798993</td>\n",
       "      <td>0</td>\n",
       "      <td>0.188607</td>\n",
       "      <td>110.684544</td>\n",
       "      <td>3</td>\n",
       "      <td>0.790626</td>\n",
       "      <td>0</td>\n",
       "    </tr>\n",
       "    <tr>\n",
       "      <th>39997</th>\n",
       "      <td>160879.0</td>\n",
       "      <td>0.877431</td>\n",
       "      <td>0.409065</td>\n",
       "      <td>0.292671</td>\n",
       "      <td>NaN</td>\n",
       "      <td>10.0</td>\n",
       "      <td>0.110664</td>\n",
       "      <td>-15.378585</td>\n",
       "      <td>0</td>\n",
       "      <td>0.031294</td>\n",
       "      <td>99.556074</td>\n",
       "      <td>3</td>\n",
       "      <td>0.177947</td>\n",
       "      <td>1</td>\n",
       "    </tr>\n",
       "    <tr>\n",
       "      <th>39998</th>\n",
       "      <td>193918.0</td>\n",
       "      <td>NaN</td>\n",
       "      <td>0.365738</td>\n",
       "      <td>NaN</td>\n",
       "      <td>0.000339</td>\n",
       "      <td>1.0</td>\n",
       "      <td>0.356308</td>\n",
       "      <td>-4.661977</td>\n",
       "      <td>1</td>\n",
       "      <td>0.054096</td>\n",
       "      <td>139.857384</td>\n",
       "      <td>3</td>\n",
       "      <td>0.772978</td>\n",
       "      <td>0</td>\n",
       "    </tr>\n",
       "    <tr>\n",
       "      <th>39999</th>\n",
       "      <td>196475.0</td>\n",
       "      <td>0.007116</td>\n",
       "      <td>0.354585</td>\n",
       "      <td>0.994883</td>\n",
       "      <td>0.002191</td>\n",
       "      <td>1.0</td>\n",
       "      <td>0.200900</td>\n",
       "      <td>-4.875249</td>\n",
       "      <td>0</td>\n",
       "      <td>0.080549</td>\n",
       "      <td>101.974949</td>\n",
       "      <td>3</td>\n",
       "      <td>0.588549</td>\n",
       "      <td>0</td>\n",
       "    </tr>\n",
       "  </tbody>\n",
       "</table>\n",
       "</div>"
      ],
      "text/plain": [
       "       song_duration_ms  acousticness  danceability    energy  \\\n",
       "id                                                              \n",
       "39995          237799.0           NaN      0.748942  0.511234   \n",
       "39996          191119.0      0.067488      0.672830  0.889685   \n",
       "39997          160879.0      0.877431      0.409065  0.292671   \n",
       "39998          193918.0           NaN      0.365738       NaN   \n",
       "39999          196475.0      0.007116      0.354585  0.994883   \n",
       "\n",
       "       instrumentalness   key  liveness   loudness  audio_mode  speechiness  \\\n",
       "id                                                                            \n",
       "39995          0.002913   0.0  0.173803  -8.853673           0     0.078060   \n",
       "39996          0.001225   5.0  0.122924  -7.798993           0     0.188607   \n",
       "39997               NaN  10.0  0.110664 -15.378585           0     0.031294   \n",
       "39998          0.000339   1.0  0.356308  -4.661977           1     0.054096   \n",
       "39999          0.002191   1.0  0.200900  -4.875249           0     0.080549   \n",
       "\n",
       "            tempo  time_signature  audio_valence  song_popularity  \n",
       "id                                                                 \n",
       "39995  168.262924               3       0.178159                0  \n",
       "39996  110.684544               3       0.790626                0  \n",
       "39997   99.556074               3       0.177947                1  \n",
       "39998  139.857384               3       0.772978                0  \n",
       "39999  101.974949               3       0.588549                0  "
      ]
     },
     "execution_count": 15,
     "metadata": {},
     "output_type": "execute_result"
    }
   ],
   "source": [
    "df.tail()"
   ]
  },
  {
   "cell_type": "code",
   "execution_count": 6,
   "id": "dfdf4283-a96e-4386-bbb9-326bfb35f9ae",
   "metadata": {},
   "outputs": [
    {
     "data": {
      "text/plain": [
       "id                    int64\n",
       "song_duration_ms    float64\n",
       "acousticness        float64\n",
       "danceability        float64\n",
       "energy              float64\n",
       "instrumentalness    float64\n",
       "key                 float64\n",
       "liveness            float64\n",
       "loudness            float64\n",
       "audio_mode            int64\n",
       "speechiness         float64\n",
       "tempo               float64\n",
       "time_signature        int64\n",
       "audio_valence       float64\n",
       "song_popularity       int64\n",
       "dtype: object"
      ]
     },
     "execution_count": 6,
     "metadata": {},
     "output_type": "execute_result"
    }
   ],
   "source": [
    "df.dtypes"
   ]
  },
  {
   "cell_type": "code",
   "execution_count": 22,
   "id": "f4f97fd4-2f70-40f5-97bd-ca4e9ed17267",
   "metadata": {},
   "outputs": [],
   "source": [
    "X = df.drop('song_popularity',axis=1).copy()\n",
    "y = df['song_popularity'].copy()"
   ]
  },
  {
   "cell_type": "markdown",
   "id": "4f01527a-4c25-4b6e-a55b-f6eecce33175",
   "metadata": {
    "jp-MarkdownHeadingCollapsed": true,
    "tags": []
   },
   "source": [
    "# Split Base"
   ]
  },
  {
   "cell_type": "code",
   "execution_count": 25,
   "id": "3ec22853-9044-49b3-8561-57298306a993",
   "metadata": {},
   "outputs": [],
   "source": [
    "folds = 5\n",
    "X_train, X_test, y_train, y_test = train_test_split(X, y, test_size=(1 / folds), random_state=SEED)"
   ]
  },
  {
   "cell_type": "markdown",
   "id": "0913af15-ae8d-4d8a-b22e-40aa423c8b36",
   "metadata": {},
   "source": [
    "# Pipeline"
   ]
  },
  {
   "cell_type": "code",
   "execution_count": 27,
   "id": "d9a2938c-fc82-4db6-924d-359432313005",
   "metadata": {},
   "outputs": [],
   "source": [
    "num_preprocessing = make_pipeline( SimpleImputer(missing_values=np.nan, strategy='median'))\n",
    "rf = RandomForestClassifier(random_state=SEED)\n",
    "\n",
    "pipe_baseline = Pipeline([\n",
    "    ('Impute missing values',num_preprocessing),\n",
    "    ('Model',rf)\n",
    "        ])\n"
   ]
  },
  {
   "cell_type": "code",
   "execution_count": 28,
   "id": "49bb8e2d-1528-46d1-a725-44777e23d841",
   "metadata": {},
   "outputs": [
    {
     "data": {
      "text/plain": [
       "Pipeline(steps=[('Impute missing values',\n",
       "                 Pipeline(steps=[('simpleimputer',\n",
       "                                  SimpleImputer(strategy='median'))])),\n",
       "                ('Model', RandomForestClassifier(random_state=42))])"
      ]
     },
     "execution_count": 28,
     "metadata": {},
     "output_type": "execute_result"
    }
   ],
   "source": [
    "pipe_baseline.fit(X_train,y_train)"
   ]
  },
  {
   "cell_type": "markdown",
   "id": "c92eec08-0512-41d0-a7dc-9a5e1ea01ca6",
   "metadata": {},
   "source": [
    "# Model Valuation"
   ]
  },
  {
   "cell_type": "code",
   "execution_count": 42,
   "id": "3f30e721-b9e0-44c0-ab88-1f2fac2ccd14",
   "metadata": {},
   "outputs": [],
   "source": [
    "X_pred= pipe_baseline.named_steps[\"Impute missing values\"].transform(X_test)\n",
    "y_pred = pipe_baseline.named_steps[\"Model\"].predict(X_pred)"
   ]
  },
  {
   "cell_type": "code",
   "execution_count": 46,
   "id": "06ab1109-3966-4cc2-a282-4c595ce24771",
   "metadata": {},
   "outputs": [
    {
     "data": {
      "text/plain": [
       "0.62625"
      ]
     },
     "execution_count": 46,
     "metadata": {},
     "output_type": "execute_result"
    }
   ],
   "source": [
    "#acurácia\n",
    "pipe_baseline.named_steps[\"Model\"].score(X_pred,y_test)"
   ]
  },
  {
   "cell_type": "code",
   "execution_count": 51,
   "id": "1e1e79e4-4840-4387-ad0a-a94a2fa7fa5c",
   "metadata": {},
   "outputs": [
    {
     "data": {
      "text/plain": [
       "0.62625"
      ]
     },
     "execution_count": 51,
     "metadata": {},
     "output_type": "execute_result"
    }
   ],
   "source": [
    "pipe_baseline.score(X_test,y_test)"
   ]
  },
  {
   "cell_type": "markdown",
   "id": "fab696b8-0fe3-49b3-b728-0548bb817f2b",
   "metadata": {},
   "source": [
    "# Model & Results Saving"
   ]
  },
  {
   "cell_type": "code",
   "execution_count": 59,
   "id": "9c3dade7-8b5b-411b-a8c3-ab34b3a611c1",
   "metadata": {},
   "outputs": [
    {
     "data": {
      "text/plain": [
       "['artifacts/pipe_baseline_2022-01-18 20:38:17.024131.joblib']"
      ]
     },
     "execution_count": 59,
     "metadata": {},
     "output_type": "execute_result"
    }
   ],
   "source": [
    "import joblib,datetime\n",
    "\n",
    "now = datetime.datetime.now()\n",
    "joblib.dump(pipe_baseline,f\"artifacts/pipe_baseline_{now}.joblib\")\n",
    "joblib.dump(pipe_baseline,f\"artifacts/pipe_baseline.joblib\")"
   ]
  },
  {
   "cell_type": "code",
   "execution_count": 69,
   "id": "a0927147-f63b-4667-961a-2d973150b6f1",
   "metadata": {},
   "outputs": [],
   "source": [
    "date_test = pd.read_csv(\"data/test.csv\")\n",
    "date_test.set_index('id',inplace=True)\n",
    "pred = pipe_baseline.predict(date_test)\n",
    "\n",
    "ids = date_test.index\n",
    "data = {'id':ids,'song_popularity':pred}\n",
    "df_submission = pd.DataFrame(data)\n",
    "df_submission.to_csv(f'submissions/data_{now}.csv',index=False)"
   ]
  }
 ],
 "metadata": {
  "kernelspec": {
   "display_name": "Python 3 (ipykernel)",
   "language": "python",
   "name": "python3"
  },
  "language_info": {
   "codemirror_mode": {
    "name": "ipython",
    "version": 3
   },
   "file_extension": ".py",
   "mimetype": "text/x-python",
   "name": "python",
   "nbconvert_exporter": "python",
   "pygments_lexer": "ipython3",
   "version": "3.9.7"
  }
 },
 "nbformat": 4,
 "nbformat_minor": 5
}
